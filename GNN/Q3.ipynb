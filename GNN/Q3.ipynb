{
 "cells": [
  {
   "cell_type": "markdown",
   "metadata": {},
   "source": [
    "### Final project of Complex Network Analysis\n",
    "### Majid Adibian, 402131910"
   ]
  },
  {
   "cell_type": "markdown",
   "metadata": {},
   "source": [
    "## Question 3: "
   ]
  },
  {
   "cell_type": "code",
   "execution_count": 7,
   "metadata": {},
   "outputs": [],
   "source": [
    "# random seed setting\n",
    "import torch\n",
    "import numpy as np\n",
    "\n",
    "from Q1.utils import get_datasets, split_data\n",
    "from Q1.train import evaluate_model, train_model\n",
    "from Q1.model import GCNModel, NewGCNModel\n",
    "\n",
    "seed = 43\n",
    "np.random.seed(seed)\n",
    "torch.manual_seed(seed)\n",
    "torch.cuda.manual_seed(seed)\n",
    "torch.backends.cudnn.deterministic = True"
   ]
  },
  {
   "cell_type": "code",
   "execution_count": 2,
   "metadata": {},
   "outputs": [],
   "source": [
    "CoraFull_dataset, CiteSeer_dataset = get_datasets()\n",
    "CoraFull_dataset, CiteSeer_dataset = split_data([CoraFull_dataset, CiteSeer_dataset])"
   ]
  },
  {
   "cell_type": "markdown",
   "metadata": {},
   "source": [
    "### Train DropEdge model on CoraFull dataset"
   ]
  },
  {
   "cell_type": "markdown",
   "metadata": {},
   "source": [
    "##### With drop edge"
   ]
  },
  {
   "cell_type": "code",
   "execution_count": 13,
   "metadata": {},
   "outputs": [
    {
     "name": "stdout",
     "output_type": "stream",
     "text": [
      "Epoch 200 | train_loss: 0.160 | train_acc: 0.962 | val_acc: 0.717: 100%|█| 200/2\n",
      "accuracy on test dataset: 0.7243975400924683\n"
     ]
    }
   ],
   "source": [
    "!python Q3/train.py --dataset corafull --num_layers 2 --hidden 256 \\\n",
    "    --epoch 200 --lr 0.001 --sampling_percent 0.05 --dropout 0.9 \\\n",
    "    --normalization BingGeNormAdj --batch_norm --device cuda \\\n",
    "    --result_path \"Q3/results/CuraFull_with_dropedge.png\""
   ]
  },
  {
   "cell_type": "markdown",
   "metadata": {},
   "source": [
    "##### Without drop edge"
   ]
  },
  {
   "cell_type": "code",
   "execution_count": 16,
   "metadata": {},
   "outputs": [
    {
     "name": "stdout",
     "output_type": "stream",
     "text": [
      "Epoch 200 | train_loss: 0.077 | train_acc: 0.988 | val_acc: 0.678: 100%|█| 200/2\n",
      "accuracy on test dataset: 0.6997991800308228\n"
     ]
    }
   ],
   "source": [
    "## Using code of DropEdge paper\n",
    "!python Q3/train.py --dataset corafull --num_layers 2 --hidden 256 \\\n",
    "    --epoch 200 --lr 0.001 --sampling_percent 1 --dropout 0.9 \\\n",
    "    --normalization BingGeNormAdj --batch_norm --device cuda \\\n",
    "    --result_path \"Q3/results/CuraFull_without_dropedge.png\""
   ]
  },
  {
   "cell_type": "code",
   "execution_count": 25,
   "metadata": {},
   "outputs": [
    {
     "name": "stdout",
     "output_type": "stream",
     "text": [
      "accuracy on test dataset: 0.6872\n"
     ]
    }
   ],
   "source": [
    "## Using code of question 1\n",
    "device = \"cuda\"\n",
    "dataset = CoraFull_dataset\n",
    "model = GCNModel(dataset[\"nodes\"].shape[1], dataset[\"num_classes\"], 256, 2).to(device)\n",
    "model, _, _ = train_model(model, dataset, device=device, epoches=200, lr=0.009)\n",
    "data = {\"nodes\":dataset[\"nodes\"].to(device), \"edges\":dataset[\"edges\"].to(device), \"labels\":dataset[\"labels\"].to(device)}\n",
    "test_accuracy = evaluate_model(model, data, dataset[\"test_indexes\"])\n",
    "print(\"accuracy on test dataset: {:.4f}\".format(test_accuracy))"
   ]
  },
  {
   "cell_type": "markdown",
   "metadata": {},
   "source": [
    "### Train DropEdge model on CiteSeer dataset"
   ]
  },
  {
   "cell_type": "markdown",
   "metadata": {},
   "source": [
    "##### With drop edge"
   ]
  },
  {
   "cell_type": "code",
   "execution_count": 23,
   "metadata": {},
   "outputs": [
    {
     "name": "stdout",
     "output_type": "stream",
     "text": [
      "Epoch 200 | train_loss: 0.190 | train_acc: 0.945 | val_acc: 0.760: 100%|█| 200/2\n",
      "accuracy on test dataset: 0.7664670944213867\n"
     ]
    }
   ],
   "source": [
    "!python Q3/train.py --dataset citeseer --num_layers 2 \\\n",
    "    --hidden 256 --epoch 200 --lr 0.009 --sampling_percent 0.05 \\\n",
    "    --dropout 0.9 --normalization BingGeNormAdj --batch_norm --device cuda \\\n",
    "    --result_path \"Q3/results/CiteSeer_with_dropedge.png\""
   ]
  },
  {
   "cell_type": "markdown",
   "metadata": {},
   "source": [
    "##### Without drop edge"
   ]
  },
  {
   "cell_type": "code",
   "execution_count": 24,
   "metadata": {},
   "outputs": [
    {
     "name": "stdout",
     "output_type": "stream",
     "text": [
      "Epoch 200 | train_loss: 0.182 | train_acc: 0.940 | val_acc: 0.730: 100%|█| 200/2\n",
      "accuracy on test dataset: 0.7095808386802673\n"
     ]
    }
   ],
   "source": [
    "## Using code of DropEdge paper\n",
    "!python Q3/train.py --dataset citeseer --num_layers 2 \\\n",
    "    --hidden 256 --epoch 200 --lr 0.009 --sampling_percent 1 \\\n",
    "    --dropout 0.9 --normalization BingGeNormAdj --batch_norm --device cuda \\\n",
    "    --result_path \"Q3/results/CiteSeer_without_dropedge.png\""
   ]
  },
  {
   "cell_type": "code",
   "execution_count": 24,
   "metadata": {},
   "outputs": [
    {
     "name": "stdout",
     "output_type": "stream",
     "text": [
      "accuracy on test dataset: 0.7081\n"
     ]
    }
   ],
   "source": [
    "## Using code of question 1\n",
    "device = \"cuda\"\n",
    "dataset = CiteSeer_dataset\n",
    "model = GCNModel(dataset[\"nodes\"].shape[1], dataset[\"num_classes\"], hidden_size=256, num_layers=2).to(device)\n",
    "model, _, _ = train_model(model, dataset, device=device, epoches=200, lr=0.009)\n",
    "data = {\"nodes\":dataset[\"nodes\"].to(device), \"edges\":dataset[\"edges\"].to(device), \"labels\":dataset[\"labels\"].to(device)}\n",
    "test_accuracy = evaluate_model(model, data, dataset[\"test_indexes\"])\n",
    "print(\"accuracy on test dataset: {:.4f}\".format(test_accuracy))"
   ]
  },
  {
   "cell_type": "markdown",
   "metadata": {},
   "source": [
    "### Question 3.f: Set number of layers to 8 and evaluate the effect of drop edge"
   ]
  },
  {
   "cell_type": "markdown",
   "metadata": {},
   "source": [
    "##### CuraFull dataset"
   ]
  },
  {
   "cell_type": "code",
   "execution_count": 15,
   "metadata": {},
   "outputs": [
    {
     "name": "stdout",
     "output_type": "stream",
     "text": [
      "Epoch 200 | train_loss: 0.483 | train_acc: 0.900 | val_acc: 0.668: 100%|█| 200/2\n",
      "accuracy on test dataset: 0.6887549757957458\n"
     ]
    }
   ],
   "source": [
    "## With drop edge\n",
    "!python Q3/train.py --dataset corafull --num_layers 8 \\\n",
    "    --hidden 256 --epoch 200 --lr 0.001 --sampling_percent 0.05 \\\n",
    "    --dropout 0.2 --normalization BingGeNormAdj --batch_norm --device cuda \\\n",
    "    --result_path \"Q3/results/CuraFull_8_layers_with_dropedge.png\""
   ]
  },
  {
   "cell_type": "code",
   "execution_count": 16,
   "metadata": {},
   "outputs": [
    {
     "name": "stdout",
     "output_type": "stream",
     "text": [
      "Epoch 200 | train_loss: 0.172 | train_acc: 0.942 | val_acc: 0.618: 100%|█| 200/2\n",
      "accuracy on test dataset: 0.6335341334342957\n"
     ]
    }
   ],
   "source": [
    "## Without drop edge Using code of DropEdge paper \n",
    "!python Q3/train.py --dataset corafull --num_layers 8 \\\n",
    "    --hidden 256 --epoch 200 --lr 0.001 --sampling_percent 1 \\\n",
    "    --dropout 0.2 --normalization BingGeNormAdj --batch_norm --device cuda \\\n",
    "    --result_path \"Q3/results/CuraFull_8_layers_without_dropedge.png\""
   ]
  },
  {
   "cell_type": "code",
   "execution_count": 5,
   "metadata": {},
   "outputs": [
    {
     "name": "stderr",
     "output_type": "stream",
     "text": [
      "Epoch 200 | train_loss: 2.122 | train_acc: 0.425 | val_acc: 0.471: 100%|██████████| 200/200 [02:27<00:00,  1.36it/s]\n"
     ]
    },
    {
     "name": "stdout",
     "output_type": "stream",
     "text": [
      "accuracy on test dataset: 0.4799\n"
     ]
    }
   ],
   "source": [
    "## Without drop edge Using code of question 1\n",
    "device = \"cuda\"\n",
    "dataset = CoraFull_dataset\n",
    "model = GCNModel(dataset[\"nodes\"].shape[1], dataset[\"num_classes\"], hidden_size=256, num_layers=8).to(device)\n",
    "model, _, _ = train_model(model, dataset, device=device, epoches=200, lr=0.001)\n",
    "data = {\"nodes\":dataset[\"nodes\"].to(device), \"edges\":dataset[\"edges\"].to(device), \"labels\":dataset[\"labels\"].to(device)}\n",
    "test_accuracy = evaluate_model(model, data, dataset[\"test_indexes\"])\n",
    "print(\"accuracy on test dataset: {:.4f}\".format(test_accuracy))"
   ]
  },
  {
   "cell_type": "markdown",
   "metadata": {},
   "source": [
    "##### CiteSeer dataset"
   ]
  },
  {
   "cell_type": "code",
   "execution_count": 129,
   "metadata": {},
   "outputs": [
    {
     "name": "stdout",
     "output_type": "stream",
     "text": [
      "Epoch 500 | train_loss: 0.185 | train_acc: 0.954 | val_acc: 0.712: 100%|█| 500/5\n",
      "accuracy on test dataset: 0.7365269660949707\n"
     ]
    }
   ],
   "source": [
    "## With drop edge\n",
    "!python Q3/train.py --dataset citeseer --num_layers 8 \\\n",
    "    --hidden 64 --epoch 500 --lr 0.009 --sampling_percent 0.05 \\\n",
    "    --dropout 0.2 --normalization BingGeNormAdj --batch_norm --device cuda \\\n",
    "    --result_path \"Q3/results/CiteSeer_8_layers_with_dropedge.png\""
   ]
  },
  {
   "cell_type": "code",
   "execution_count": 58,
   "metadata": {},
   "outputs": [
    {
     "name": "stdout",
     "output_type": "stream",
     "text": [
      "Epoch 500 | train_loss: 0.125 | train_acc: 0.941 | val_acc: 0.694: 100%|█| 500/5\n",
      "accuracy on test dataset: 0.688622772693634\n"
     ]
    }
   ],
   "source": [
    "## Without drop edge Using code of DropEdge paper \n",
    "!python Q3/train.py --dataset citeseer --num_layers 8 \\\n",
    "    --hidden 64 --epoch 500 --lr 0.009 --sampling_percent 1 \\\n",
    "    --dropout 0.2 --normalization BingGeNormAdj --batch_norm --device cuda \\\n",
    "    --result_path \"Q3/results/CiteSeer_8_layers_without_dropedge.png\""
   ]
  },
  {
   "cell_type": "code",
   "execution_count": 6,
   "metadata": {},
   "outputs": [
    {
     "name": "stderr",
     "output_type": "stream",
     "text": [
      "  0%|          | 0/500 [00:00<?, ?it/s]"
     ]
    },
    {
     "name": "stderr",
     "output_type": "stream",
     "text": [
      "Epoch 500 | train_loss: 1.157 | train_acc: 0.585 | val_acc: 0.592: 100%|██████████| 500/500 [00:18<00:00, 27.29it/s]\n"
     ]
    },
    {
     "name": "stdout",
     "output_type": "stream",
     "text": [
      "accuracy on test dataset: 0.5629\n"
     ]
    }
   ],
   "source": [
    "## Without drop edge Using code of question 1\n",
    "device = \"cuda\"\n",
    "dataset = CiteSeer_dataset\n",
    "model = GCNModel(dataset[\"nodes\"].shape[1], dataset[\"num_classes\"], hidden_size=64, num_layers=8).to(device)\n",
    "model, _, _ = train_model(model, dataset, device=device, epoches=500, lr=0.009)\n",
    "data = {\"nodes\":dataset[\"nodes\"].to(device), \"edges\":dataset[\"edges\"].to(device), \"labels\":dataset[\"labels\"].to(device)}\n",
    "test_accuracy = evaluate_model(model, data, dataset[\"test_indexes\"])\n",
    "print(\"accuracy on test dataset: {:.4f}\".format(test_accuracy))"
   ]
  },
  {
   "cell_type": "markdown",
   "metadata": {},
   "source": [
    "### Question 3.h: Use skip-connection "
   ]
  },
  {
   "cell_type": "markdown",
   "metadata": {},
   "source": [
    "##### CuraFull dataset"
   ]
  },
  {
   "cell_type": "code",
   "execution_count": 17,
   "metadata": {},
   "outputs": [
    {
     "name": "stdout",
     "output_type": "stream",
     "text": [
      "Epoch 200 | train_loss: 0.155 | train_acc: 0.970 | val_acc: 0.655: 100%|█| 200/2\n",
      "accuracy on test dataset: 0.6679216623306274\n"
     ]
    }
   ],
   "source": [
    "## Using code of DropEdge without edge removing\n",
    "!python Q3/train.py --dataset corafull --num_layers 8 --skip_connection \\\n",
    "    --hidden 256 --epoch 200 --lr 0.001 --sampling_percent 1 \\\n",
    "    --dropout 0.2 --normalization BingGeNormAdj --batch_norm --device cuda \\\n",
    "    --result_path \"Q3/results/CoraFull_8_layers_with_skip_connection.png\""
   ]
  },
  {
   "cell_type": "code",
   "execution_count": 3,
   "metadata": {},
   "outputs": [
    {
     "name": "stderr",
     "output_type": "stream",
     "text": [
      "Epoch 200 | train_loss: 0.196 | train_acc: 0.948 | val_acc: 0.684: 100%|██████████| 200/200 [02:27<00:00,  1.35it/s]\n"
     ]
    },
    {
     "name": "stdout",
     "output_type": "stream",
     "text": [
      "accuracy on test dataset: 0.6988\n"
     ]
    }
   ],
   "source": [
    "## Using code of question 1\n",
    "device = \"cuda\"\n",
    "dataset = CoraFull_dataset\n",
    "model = GCNModel(dataset[\"nodes\"].shape[1], dataset[\"num_classes\"], hidden_size=256, num_layers=8, skip_connection=True).to(device)\n",
    "model, _, _ = train_model(model, dataset, device=device, epoches=200, lr=0.001)\n",
    "data = {\"nodes\":dataset[\"nodes\"].to(device), \"edges\":dataset[\"edges\"].to(device), \"labels\":dataset[\"labels\"].to(device)}\n",
    "test_accuracy = evaluate_model(model, data, dataset[\"test_indexes\"])\n",
    "print(\"accuracy on test dataset: {:.4f}\".format(test_accuracy))"
   ]
  },
  {
   "cell_type": "markdown",
   "metadata": {},
   "source": [
    "##### CiteSeer dataset"
   ]
  },
  {
   "cell_type": "code",
   "execution_count": 135,
   "metadata": {},
   "outputs": [
    {
     "name": "stdout",
     "output_type": "stream",
     "text": [
      "Epoch 500 | train_loss: 0.003 | train_acc: 1.000 | val_acc: 0.706: 100%|█| 500/5\n",
      "accuracy on test dataset: 0.6991018056869507\n"
     ]
    }
   ],
   "source": [
    "## Using code of DropEdge without edge removing\n",
    "!python Q3/train.py --dataset citeseer --num_layers 8 --skip_connection \\\n",
    "    --hidden 64 --epoch 500 --lr 0.009 --sampling_percent 1 \\\n",
    "    --dropout 0.2 --normalization BingGeNormAdj --batch_norm --device cuda \\\n",
    "    --result_path \"Q3/results/CiteSeer_8_layers_with_skip_connection.png\""
   ]
  },
  {
   "cell_type": "code",
   "execution_count": 4,
   "metadata": {},
   "outputs": [
    {
     "name": "stderr",
     "output_type": "stream",
     "text": [
      "  0%|          | 0/500 [00:00<?, ?it/s]"
     ]
    },
    {
     "name": "stderr",
     "output_type": "stream",
     "text": [
      "Epoch 500 | train_loss: 0.215 | train_acc: 0.913 | val_acc: 0.751: 100%|██████████| 500/500 [00:18<00:00, 27.60it/s]\n"
     ]
    },
    {
     "name": "stdout",
     "output_type": "stream",
     "text": [
      "accuracy on test dataset: 0.7231\n"
     ]
    }
   ],
   "source": [
    "## Using code of question 1\n",
    "device = \"cuda\"\n",
    "dataset = CiteSeer_dataset\n",
    "model = GCNModel(dataset[\"nodes\"].shape[1], dataset[\"num_classes\"], hidden_size=64, num_layers=8, skip_connection=True).to(device)\n",
    "model, _, _ = train_model(model, dataset, device=device, epoches=500, lr=0.009)\n",
    "data = {\"nodes\":dataset[\"nodes\"].to(device), \"edges\":dataset[\"edges\"].to(device), \"labels\":dataset[\"labels\"].to(device)}\n",
    "test_accuracy = evaluate_model(model, data, dataset[\"test_indexes\"])\n",
    "print(\"accuracy on test dataset: {:.4f}\".format(test_accuracy))"
   ]
  },
  {
   "cell_type": "markdown",
   "metadata": {},
   "source": [
    "### Question 3.i: New idea to solve over-smoothing problem"
   ]
  },
  {
   "cell_type": "markdown",
   "metadata": {},
   "source": [
    "##### CuraFull dataset"
   ]
  },
  {
   "cell_type": "code",
   "execution_count": 19,
   "metadata": {},
   "outputs": [
    {
     "name": "stdout",
     "output_type": "stream",
     "text": [
      "Epoch 200 | train_loss: 0.174 | train_acc: 0.943 | val_acc: 0.617: 100%|█| 200/2\n",
      "accuracy on test dataset: 0.6335341334342957\n"
     ]
    }
   ],
   "source": [
    "## Using code of DropEdge without edge removing\n",
    "!python Q3/train.py --dataset corafull --num_layers 8 --new_model \\\n",
    "    --hidden 256 --epoch 200 --lr 0.001 --sampling_percent 1 \\\n",
    "    --dropout 0.2 --normalization BingGeNormAdj --batch_norm --device cuda \\\n",
    "    --result_path \"Q3/results/CoraFull_8_layers_with_new_idea.png\""
   ]
  },
  {
   "cell_type": "code",
   "execution_count": 10,
   "metadata": {},
   "outputs": [
    {
     "name": "stderr",
     "output_type": "stream",
     "text": [
      "Epoch 200 | train_loss: 0.201 | train_acc: 0.904 | val_acc: 0.739: 100%|██████████| 200/200 [00:08<00:00, 23.12it/s]"
     ]
    },
    {
     "name": "stdout",
     "output_type": "stream",
     "text": [
      "accuracy on test dataset: 0.7066\n"
     ]
    },
    {
     "name": "stderr",
     "output_type": "stream",
     "text": [
      "\n"
     ]
    }
   ],
   "source": [
    "## Using code of question 1\n",
    "device = \"cuda\"\n",
    "dataset = CiteSeer_dataset\n",
    "model = NewGCNModel(dataset[\"nodes\"].shape[1], dataset[\"num_classes\"], hidden_size=256, num_layers=8, dropout=0.2).to(device)\n",
    "model, _, _ = train_model(model, dataset, device=device, epoches=200, lr=0.001)\n",
    "data = {\"nodes\":dataset[\"nodes\"].to(device), \"edges\":dataset[\"edges\"].to(device), \"labels\":dataset[\"labels\"].to(device)}\n",
    "test_accuracy = evaluate_model(model, data, dataset[\"test_indexes\"])\n",
    "print(\"accuracy on test dataset: {:.4f}\".format(test_accuracy))"
   ]
  },
  {
   "cell_type": "markdown",
   "metadata": {},
   "source": [
    "##### CiteSeer dataset"
   ]
  },
  {
   "cell_type": "code",
   "execution_count": 13,
   "metadata": {},
   "outputs": [
    {
     "name": "stdout",
     "output_type": "stream",
     "text": [
      "Epoch 200 | train_loss: 0.259 | train_acc: 0.908 | val_acc: 0.697: 100%|█| 200/2\n",
      "accuracy on test dataset: 0.7050898671150208\n"
     ]
    }
   ],
   "source": [
    "## Using code of DropEdge without edge removing\n",
    "!python Q3/train.py --dataset citeseer --num_layers 8 --new_model \\\n",
    "    --hidden 64 --epoch 200 --lr 0.009 --sampling_percent 1 \\\n",
    "    --dropout 0.2 --normalization BingGeNormAdj --batch_norm --device cuda \\\n",
    "    --result_path \"Q3/results/CiteSeer_8_layers_with_new_idea.png\""
   ]
  },
  {
   "cell_type": "code",
   "execution_count": 11,
   "metadata": {},
   "outputs": [
    {
     "name": "stderr",
     "output_type": "stream",
     "text": [
      "  0%|          | 0/200 [00:00<?, ?it/s]"
     ]
    },
    {
     "name": "stderr",
     "output_type": "stream",
     "text": [
      "Epoch 200 | train_loss: 0.360 | train_acc: 0.851 | val_acc: 0.742: 100%|██████████| 200/200 [00:07<00:00, 25.87it/s]\n"
     ]
    },
    {
     "name": "stdout",
     "output_type": "stream",
     "text": [
      "accuracy on test dataset: 0.7126\n"
     ]
    }
   ],
   "source": [
    "## Using code of question 1\n",
    "device = \"cuda\"\n",
    "dataset = CiteSeer_dataset\n",
    "model = NewGCNModel(dataset[\"nodes\"].shape[1], dataset[\"num_classes\"], hidden_size=64, num_layers=8, dropout=0.2).to(device)\n",
    "model, _, _ = train_model(model, dataset, device=device, epoches=200, lr=0.009)\n",
    "data = {\"nodes\":dataset[\"nodes\"].to(device), \"edges\":dataset[\"edges\"].to(device), \"labels\":dataset[\"labels\"].to(device)}\n",
    "test_accuracy = evaluate_model(model, data, dataset[\"test_indexes\"])\n",
    "print(\"accuracy on test dataset: {:.4f}\".format(test_accuracy))"
   ]
  }
 ],
 "metadata": {
  "kernelspec": {
   "display_name": "Python 3",
   "language": "python",
   "name": "python3"
  },
  "language_info": {
   "codemirror_mode": {
    "name": "ipython",
    "version": 3
   },
   "file_extension": ".py",
   "mimetype": "text/x-python",
   "name": "python",
   "nbconvert_exporter": "python",
   "pygments_lexer": "ipython3",
   "version": "3.11.5"
  }
 },
 "nbformat": 4,
 "nbformat_minor": 2
}
